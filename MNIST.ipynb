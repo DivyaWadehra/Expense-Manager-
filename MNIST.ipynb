{
  "nbformat": 4,
  "nbformat_minor": 0,
  "metadata": {
    "colab": {
      "name": "MNIST.ipynb",
      "version": "0.3.2",
      "provenance": [],
      "collapsed_sections": [],
      "include_colab_link": true
    },
    "kernelspec": {
      "name": "python3",
      "display_name": "Python 3"
    },
    "accelerator": "GPU"
  },
  "cells": [
    {
      "cell_type": "markdown",
      "metadata": {
        "id": "view-in-github",
        "colab_type": "text"
      },
      "source": [
        "<a href=\"https://colab.research.google.com/github/DivyaWadehra/Expense-Manager-/blob/master/MNIST.ipynb\" target=\"_parent\"><img src=\"https://colab.research.google.com/assets/colab-badge.svg\" alt=\"Open In Colab\"/></a>"
      ]
    },
    {
      "cell_type": "code",
      "metadata": {
        "id": "QxPV3j6Pa8YI",
        "colab_type": "code",
        "colab": {}
      },
      "source": [
        "import torch\n",
        "import torch.nn as nn\n",
        "import torchvision.datasets as datasets\n",
        "import torchvision.transforms as transforms\n",
        "from torch.autograd import Variable"
      ],
      "execution_count": 0,
      "outputs": []
    },
    {
      "cell_type": "code",
      "metadata": {
        "id": "BXw-TM5IbFHn",
        "colab_type": "code",
        "colab": {}
      },
      "source": [
        "input_size=784\n",
        "hidden_size=400\n",
        "out_size=10\n",
        "epochs=10\n",
        "batch_size=100\n",
        "learning_rate=0.001"
      ],
      "execution_count": 0,
      "outputs": []
    },
    {
      "cell_type": "code",
      "metadata": {
        "id": "ma3fE4yMbjmP",
        "colab_type": "code",
        "colab": {}
      },
      "source": [
        "train_dataset=datasets.MNIST(root=\"./data\",train=True,transform=transforms.ToTensor(),download=True)"
      ],
      "execution_count": 0,
      "outputs": []
    },
    {
      "cell_type": "code",
      "metadata": {
        "id": "1-2LUc_8bxyn",
        "colab_type": "code",
        "colab": {}
      },
      "source": [
        "test_dataset=datasets.MNIST(root=\"./data\",train=False,transform=transforms.ToTensor())"
      ],
      "execution_count": 0,
      "outputs": []
    },
    {
      "cell_type": "code",
      "metadata": {
        "id": "gMLcDuTWb8MR",
        "colab_type": "code",
        "colab": {}
      },
      "source": [
        "train_loader=torch.utils.data.DataLoader(dataset=train_dataset,batch_size=batch_size,shuffle=True)"
      ],
      "execution_count": 0,
      "outputs": []
    },
    {
      "cell_type": "code",
      "metadata": {
        "id": "68Crq0okcH6m",
        "colab_type": "code",
        "colab": {}
      },
      "source": [
        "test_loader=torch.utils.data.DataLoader(dataset=test_dataset,batch_size=batch_size,shuffle=False)"
      ],
      "execution_count": 0,
      "outputs": []
    },
    {
      "cell_type": "code",
      "metadata": {
        "id": "ILVHpcNjiPOK",
        "colab_type": "code",
        "colab": {}
      },
      "source": [
        ""
      ],
      "execution_count": 0,
      "outputs": []
    },
    {
      "cell_type": "code",
      "metadata": {
        "id": "yYXB7JSuh_IS",
        "colab_type": "code",
        "colab": {}
      },
      "source": [
        ""
      ],
      "execution_count": 0,
      "outputs": []
    },
    {
      "cell_type": "code",
      "metadata": {
        "id": "ODyFVnq0cN2h",
        "colab_type": "code",
        "colab": {}
      },
      "source": [
        "class Net(nn.Module):\n",
        "  def __init__(self,input_size, hidden_size, out_size):\n",
        "    super(Net,self).__init__()\n",
        "    self.fc1=nn.Linear(input_size,hidden_size)\n",
        "    self.relu=nn.ReLU()\n",
        "    self.fc2=nn.Linear(hidden_size,hidden_size)\n",
        "    self.fc3=nn.Linear(hidden_size,out_size)\n",
        "  \n",
        "  def forward(self,x):\n",
        "    out=self.fc1(x)\n",
        "    out=self.relu(out)\n",
        "    out=self.fc2(out)\n",
        "    out=self.relu(out)\n",
        "    out=self.fc3(out)\n",
        "    return out\n",
        "    "
      ],
      "execution_count": 0,
      "outputs": []
    },
    {
      "cell_type": "code",
      "metadata": {
        "id": "wSqc6PQxcYPi",
        "colab_type": "code",
        "colab": {}
      },
      "source": [
        "net=Net(input_size,hidden_size,out_size)\n",
        "CUDA=torch.cuda.is_available()\n",
        "if CUDA:\n",
        "  net=net.cuda()\n",
        "criterion=nn.CrossEntropyLoss()\n",
        "optimizer=torch.optim.Adam(net.parameters(),lr=learning_rate)  "
      ],
      "execution_count": 0,
      "outputs": []
    },
    {
      "cell_type": "code",
      "metadata": {
        "id": "f4_OC2UWkSi6",
        "colab_type": "code",
        "colab": {
          "base_uri": "https://localhost:8080/",
          "height": 1000
        },
        "outputId": "a0fcb668-7701-426d-d8cc-e6072aaf181e"
      },
      "source": [
        "correct_train=0\n",
        "total_train=0\n",
        "for epoch in range(epochs):\n",
        "  for i,(images,labels) in enumerate(train_loader):\n",
        "    images=Variable(images.view(-1,28*28))\n",
        "    labels=Variable(labels)\n",
        "    if CUDA:\n",
        "      images=images.cuda()\n",
        "      labels=labels.cuda()\n",
        "    optimizer.zero_grad()\n",
        "    outputs=net(images)\n",
        "    _,predicted=torch.max(outputs.data,1)\n",
        "    total_train+=labels.size(0)\n",
        "    if CUDA:\n",
        "      correct_train+=(predicted.cpu()==labels.cpu()).sum()\n",
        "    else:\n",
        "      correct_train+=(predicted==labels).sum()\n",
        "    loss=criterion(outputs,labels)\n",
        "    loss.backward()\n",
        "    optimizer.step()\n",
        "    if(i+1)%100==0:\n",
        "      print(\"Training Accuracy: {}%\".format((100*correct_train/total_train)))\n",
        "print(\"Done Training\")    \n",
        "    "
      ],
      "execution_count": 47,
      "outputs": [
        {
          "output_type": "stream",
          "text": [
            "Training Accuracy: 98%\n",
            "Training Accuracy: 98%\n",
            "Training Accuracy: 98%\n",
            "Training Accuracy: 98%\n",
            "Training Accuracy: 98%\n",
            "Training Accuracy: 98%\n",
            "Training Accuracy: 98%\n",
            "Training Accuracy: 98%\n",
            "Training Accuracy: 98%\n",
            "Training Accuracy: 98%\n",
            "Training Accuracy: 98%\n",
            "Training Accuracy: 98%\n",
            "Training Accuracy: 98%\n",
            "Training Accuracy: 98%\n",
            "Training Accuracy: 98%\n",
            "Training Accuracy: 98%\n",
            "Training Accuracy: 98%\n",
            "Training Accuracy: 98%\n",
            "Training Accuracy: 98%\n",
            "Training Accuracy: 98%\n",
            "Training Accuracy: 98%\n",
            "Training Accuracy: 98%\n",
            "Training Accuracy: 99%\n",
            "Training Accuracy: 99%\n",
            "Training Accuracy: 99%\n",
            "Training Accuracy: 99%\n",
            "Training Accuracy: 99%\n",
            "Training Accuracy: 99%\n",
            "Training Accuracy: 99%\n",
            "Training Accuracy: 99%\n",
            "Training Accuracy: 99%\n",
            "Training Accuracy: 99%\n",
            "Training Accuracy: 99%\n",
            "Training Accuracy: 99%\n",
            "Training Accuracy: 99%\n",
            "Training Accuracy: 99%\n",
            "Training Accuracy: 99%\n",
            "Training Accuracy: 99%\n",
            "Training Accuracy: 99%\n",
            "Training Accuracy: 99%\n",
            "Training Accuracy: 99%\n",
            "Training Accuracy: 99%\n",
            "Training Accuracy: 99%\n",
            "Training Accuracy: 99%\n",
            "Training Accuracy: 99%\n",
            "Training Accuracy: 99%\n",
            "Training Accuracy: 99%\n",
            "Training Accuracy: 99%\n",
            "Training Accuracy: 99%\n",
            "Training Accuracy: 99%\n",
            "Training Accuracy: 99%\n",
            "Training Accuracy: 99%\n",
            "Training Accuracy: 99%\n",
            "Training Accuracy: 99%\n",
            "Training Accuracy: 99%\n",
            "Training Accuracy: 99%\n",
            "Training Accuracy: 99%\n",
            "Training Accuracy: 99%\n",
            "Training Accuracy: 99%\n",
            "Training Accuracy: 99%\n",
            "Done Training\n"
          ],
          "name": "stdout"
        }
      ]
    },
    {
      "cell_type": "code",
      "metadata": {
        "id": "7x5x7H0DpCCj",
        "colab_type": "code",
        "colab": {
          "base_uri": "https://localhost:8080/",
          "height": 34
        },
        "outputId": "1406b8b5-9649-45b5-fed2-eca4363940be"
      },
      "source": [
        "correct=0\n",
        "total=0\n",
        "\n",
        "for i,(images,labels) in enumerate(test_loader):\n",
        "  images=Variable(images.view(-1,28*28))\n",
        "  \n",
        "  if CUDA:\n",
        "    images=images.cuda()\n",
        "    \n",
        "  \n",
        "  outputs=net(images)\n",
        "  _,predicted=torch.max(outputs.data,1)\n",
        "  total+=labels.size(0)\n",
        "  if CUDA:\n",
        "    correct+=(predicted.cpu()==labels.cpu()).sum()\n",
        "  else:\n",
        "    correct+=(predicted==labels).sum()\n",
        "print(\"Final test accuracy %d%%\"%(100*correct/total))    \n",
        "    "
      ],
      "execution_count": 50,
      "outputs": [
        {
          "output_type": "stream",
          "text": [
            "Final test accuracy 98%\n"
          ],
          "name": "stdout"
        }
      ]
    },
    {
      "cell_type": "code",
      "metadata": {
        "id": "xsbMC7DnnpDI",
        "colab_type": "code",
        "colab": {}
      },
      "source": [
        ""
      ],
      "execution_count": 0,
      "outputs": []
    }
  ]
}